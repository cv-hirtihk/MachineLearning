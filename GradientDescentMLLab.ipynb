{
  "nbformat": 4,
  "nbformat_minor": 0,
  "metadata": {
    "colab": {
      "name": "GradientDescentMLLab.ipynb",
      "provenance": [],
      "authorship_tag": "ABX9TyPATMh+1jnJf8N+hhaN+vW1"
    },
    "kernelspec": {
      "name": "python3",
      "display_name": "Python 3"
    },
    "language_info": {
      "name": "python"
    }
  },
  "cells": [
    {
      "cell_type": "code",
      "execution_count": 21,
      "metadata": {
        "id": "OWyx-t3BMQxi"
      },
      "outputs": [],
      "source": [
        "import numpy as np\n",
        "import pandas as pd\n",
        "import matplotlib.pyplot as plt\n",
        "from sklearn.linear_model import LinearRegression\n",
        "from word2number import w2n\n",
        "import math"
      ]
    },
    {
      "cell_type": "code",
      "source": [
        "def gradient_descent(x, y):\n",
        "  m_curr = b_curr = 0\n",
        "  iteration = 10000\n",
        "  n = len(x)\n",
        "  learning_rate = 0.002\n",
        "  previous_cost = 0\n",
        "  for i in range(iteration):\n",
        "    y_predicted = m_curr * x + b_curr # y = m * x + c\n",
        "    cost = (1/n) * sum([val**2 for val in (y-y_predicted)])\n",
        "    md = -(2/n)*sum(x * (y - y_predicted)) # m derivative\n",
        "    bd = -(2/n)*sum(y - y_predicted) # b derivative\n",
        "    m_curr = m_curr - learning_rate * md\n",
        "    b_curr = b_curr - learning_rate * md\n",
        "    if math.isclose(cost, previous_cost, rel_tol=1e-20):\n",
        "      break\n",
        "    previous_cost = cost\n",
        "    #print(\"{} m_curr,  {} b_curr, {} cost, {} i\".format(m_curr, b_curr, cost, i))\n",
        "\n",
        "  return m_curr, b_curr"
      ],
      "metadata": {
        "id": "8mgHCiXsOc44"
      },
      "execution_count": 45,
      "outputs": []
    },
    {
      "cell_type": "code",
      "source": [
        "def gradient_descent_sklearn():\n",
        "  df = pd.read_csv('https://raw.githubusercontent.com/codebasics/py/master/ML/3_gradient_descent/Exercise/test_scores.csv')\n",
        "  r = LinearRegression()\n",
        "  r.fit(df[['math']], df.cs)  \n",
        "  return r.coef_, r.intercept_"
      ],
      "metadata": {
        "id": "UqZ03tzeUDDU"
      },
      "execution_count": 41,
      "outputs": []
    },
    {
      "cell_type": "code",
      "source": [
        "df = pd.read_csv('https://raw.githubusercontent.com/codebasics/py/master/ML/3_gradient_descent/Exercise/test_scores.csv')\n",
        "\n",
        "x = np.array(df.math)\n",
        "\n",
        "y = np.array(df.cs)\n",
        "\n",
        "m, b = gradient_descent(x, y)\n",
        "\n",
        "print(\"using gradient function: coef {} intercept {}\".format(m, b))\n",
        "\n",
        "m_sklearn, b_sklearn = gradient_descent_sklearn()\n",
        "\n",
        "print(\"using gradient sklearn function: coef {} intercept {}\".format(m_sklearn, b_sklearn))"
      ],
      "metadata": {
        "colab": {
          "base_uri": "https://localhost:8080/"
        },
        "id": "q5qC6q_2SVSa",
        "outputId": "63fd9756-47a2-47ac-8043-af548ac44f96"
      },
      "execution_count": 47,
      "outputs": [
        {
          "output_type": "stream",
          "name": "stdout",
          "text": [
            "using gradient function: coef 1.0258971628390447e+155 intercept 1.0258971628390447e+155\n",
            "using gradient sklearn function: coef [1.01773624] intercept 1.9152193111569034\n"
          ]
        },
        {
          "output_type": "stream",
          "name": "stderr",
          "text": [
            "/usr/local/lib/python3.7/dist-packages/ipykernel_launcher.py:9: RuntimeWarning: overflow encountered in double_scalars\n",
            "  if __name__ == '__main__':\n"
          ]
        }
      ]
    }
  ]
}